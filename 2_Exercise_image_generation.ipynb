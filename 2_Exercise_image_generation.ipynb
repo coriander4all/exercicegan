{
  "cells": [
    {
      "cell_type": "markdown",
      "metadata": {
        "id": "view-in-github",
        "colab_type": "text"
      },
      "source": [
        "<a href=\"https://colab.research.google.com/github/coriander4all/exercicegan/blob/main/2_Exercise_image_generation.ipynb\" target=\"_parent\"><img src=\"https://colab.research.google.com/assets/colab-badge.svg\" alt=\"Open In Colab\"/></a>"
      ]
    },
    {
      "cell_type": "markdown",
      "metadata": {
        "id": "MLUnjsLdA7O9"
      },
      "source": [
        "## Packages"
      ]
    },
    {
      "cell_type": "code",
      "execution_count": 1,
      "metadata": {
        "id": "BqlMlWFn1lgm",
        "colab": {
          "base_uri": "https://localhost:8080/"
        },
        "outputId": "e13bbf59-b343-4656-daa8-38501b0db01e"
      },
      "outputs": [
        {
          "output_type": "stream",
          "name": "stdout",
          "text": [
            "Found existing installation: tensorflow 2.15.0\n",
            "Uninstalling tensorflow-2.15.0:\n",
            "  Successfully uninstalled tensorflow-2.15.0\n",
            "Collecting tensorflow==2.15\n",
            "  Using cached tensorflow-2.15.0-cp311-cp311-manylinux_2_17_x86_64.manylinux2014_x86_64.whl.metadata (4.4 kB)\n",
            "Requirement already satisfied: absl-py>=1.0.0 in /usr/local/lib/python3.11/dist-packages (from tensorflow==2.15) (1.4.0)\n",
            "Requirement already satisfied: astunparse>=1.6.0 in /usr/local/lib/python3.11/dist-packages (from tensorflow==2.15) (1.6.3)\n",
            "Requirement already satisfied: flatbuffers>=23.5.26 in /usr/local/lib/python3.11/dist-packages (from tensorflow==2.15) (25.1.24)\n",
            "Requirement already satisfied: gast!=0.5.0,!=0.5.1,!=0.5.2,>=0.2.1 in /usr/local/lib/python3.11/dist-packages (from tensorflow==2.15) (0.6.0)\n",
            "Requirement already satisfied: google-pasta>=0.1.1 in /usr/local/lib/python3.11/dist-packages (from tensorflow==2.15) (0.2.0)\n",
            "Requirement already satisfied: h5py>=2.9.0 in /usr/local/lib/python3.11/dist-packages (from tensorflow==2.15) (3.12.1)\n",
            "Requirement already satisfied: libclang>=13.0.0 in /usr/local/lib/python3.11/dist-packages (from tensorflow==2.15) (18.1.1)\n",
            "Requirement already satisfied: ml-dtypes~=0.2.0 in /usr/local/lib/python3.11/dist-packages (from tensorflow==2.15) (0.2.0)\n",
            "Requirement already satisfied: numpy<2.0.0,>=1.23.5 in /usr/local/lib/python3.11/dist-packages (from tensorflow==2.15) (1.26.4)\n",
            "Requirement already satisfied: opt-einsum>=2.3.2 in /usr/local/lib/python3.11/dist-packages (from tensorflow==2.15) (3.4.0)\n",
            "Requirement already satisfied: packaging in /usr/local/lib/python3.11/dist-packages (from tensorflow==2.15) (24.2)\n",
            "Requirement already satisfied: protobuf!=4.21.0,!=4.21.1,!=4.21.2,!=4.21.3,!=4.21.4,!=4.21.5,<5.0.0dev,>=3.20.3 in /usr/local/lib/python3.11/dist-packages (from tensorflow==2.15) (4.25.6)\n",
            "Requirement already satisfied: setuptools in /usr/local/lib/python3.11/dist-packages (from tensorflow==2.15) (75.1.0)\n",
            "Requirement already satisfied: six>=1.12.0 in /usr/local/lib/python3.11/dist-packages (from tensorflow==2.15) (1.17.0)\n",
            "Requirement already satisfied: termcolor>=1.1.0 in /usr/local/lib/python3.11/dist-packages (from tensorflow==2.15) (2.5.0)\n",
            "Requirement already satisfied: typing-extensions>=3.6.6 in /usr/local/lib/python3.11/dist-packages (from tensorflow==2.15) (4.12.2)\n",
            "Requirement already satisfied: wrapt<1.15,>=1.11.0 in /usr/local/lib/python3.11/dist-packages (from tensorflow==2.15) (1.14.1)\n",
            "Requirement already satisfied: tensorflow-io-gcs-filesystem>=0.23.1 in /usr/local/lib/python3.11/dist-packages (from tensorflow==2.15) (0.37.1)\n",
            "Requirement already satisfied: grpcio<2.0,>=1.24.3 in /usr/local/lib/python3.11/dist-packages (from tensorflow==2.15) (1.70.0)\n",
            "Requirement already satisfied: tensorboard<2.16,>=2.15 in /usr/local/lib/python3.11/dist-packages (from tensorflow==2.15) (2.15.2)\n",
            "Requirement already satisfied: tensorflow-estimator<2.16,>=2.15.0 in /usr/local/lib/python3.11/dist-packages (from tensorflow==2.15) (2.15.0)\n",
            "Requirement already satisfied: keras<2.16,>=2.15.0 in /usr/local/lib/python3.11/dist-packages (from tensorflow==2.15) (2.15.0)\n",
            "Requirement already satisfied: wheel<1.0,>=0.23.0 in /usr/local/lib/python3.11/dist-packages (from astunparse>=1.6.0->tensorflow==2.15) (0.45.1)\n",
            "Requirement already satisfied: google-auth<3,>=1.6.3 in /usr/local/lib/python3.11/dist-packages (from tensorboard<2.16,>=2.15->tensorflow==2.15) (2.27.0)\n",
            "Requirement already satisfied: google-auth-oauthlib<2,>=0.5 in /usr/local/lib/python3.11/dist-packages (from tensorboard<2.16,>=2.15->tensorflow==2.15) (1.2.1)\n",
            "Requirement already satisfied: markdown>=2.6.8 in /usr/local/lib/python3.11/dist-packages (from tensorboard<2.16,>=2.15->tensorflow==2.15) (3.7)\n",
            "Requirement already satisfied: requests<3,>=2.21.0 in /usr/local/lib/python3.11/dist-packages (from tensorboard<2.16,>=2.15->tensorflow==2.15) (2.32.3)\n",
            "Requirement already satisfied: tensorboard-data-server<0.8.0,>=0.7.0 in /usr/local/lib/python3.11/dist-packages (from tensorboard<2.16,>=2.15->tensorflow==2.15) (0.7.2)\n",
            "Requirement already satisfied: werkzeug>=1.0.1 in /usr/local/lib/python3.11/dist-packages (from tensorboard<2.16,>=2.15->tensorflow==2.15) (3.1.3)\n",
            "Requirement already satisfied: cachetools<6.0,>=2.0.0 in /usr/local/lib/python3.11/dist-packages (from google-auth<3,>=1.6.3->tensorboard<2.16,>=2.15->tensorflow==2.15) (5.5.1)\n",
            "Requirement already satisfied: pyasn1-modules>=0.2.1 in /usr/local/lib/python3.11/dist-packages (from google-auth<3,>=1.6.3->tensorboard<2.16,>=2.15->tensorflow==2.15) (0.4.1)\n",
            "Requirement already satisfied: rsa<5,>=3.1.4 in /usr/local/lib/python3.11/dist-packages (from google-auth<3,>=1.6.3->tensorboard<2.16,>=2.15->tensorflow==2.15) (4.9)\n",
            "Requirement already satisfied: requests-oauthlib>=0.7.0 in /usr/local/lib/python3.11/dist-packages (from google-auth-oauthlib<2,>=0.5->tensorboard<2.16,>=2.15->tensorflow==2.15) (1.3.1)\n",
            "Requirement already satisfied: charset-normalizer<4,>=2 in /usr/local/lib/python3.11/dist-packages (from requests<3,>=2.21.0->tensorboard<2.16,>=2.15->tensorflow==2.15) (3.4.1)\n",
            "Requirement already satisfied: idna<4,>=2.5 in /usr/local/lib/python3.11/dist-packages (from requests<3,>=2.21.0->tensorboard<2.16,>=2.15->tensorflow==2.15) (3.10)\n",
            "Requirement already satisfied: urllib3<3,>=1.21.1 in /usr/local/lib/python3.11/dist-packages (from requests<3,>=2.21.0->tensorboard<2.16,>=2.15->tensorflow==2.15) (2.3.0)\n",
            "Requirement already satisfied: certifi>=2017.4.17 in /usr/local/lib/python3.11/dist-packages (from requests<3,>=2.21.0->tensorboard<2.16,>=2.15->tensorflow==2.15) (2024.12.14)\n",
            "Requirement already satisfied: MarkupSafe>=2.1.1 in /usr/local/lib/python3.11/dist-packages (from werkzeug>=1.0.1->tensorboard<2.16,>=2.15->tensorflow==2.15) (3.0.2)\n",
            "Requirement already satisfied: pyasn1<0.7.0,>=0.4.6 in /usr/local/lib/python3.11/dist-packages (from pyasn1-modules>=0.2.1->google-auth<3,>=1.6.3->tensorboard<2.16,>=2.15->tensorflow==2.15) (0.6.1)\n",
            "Requirement already satisfied: oauthlib>=3.0.0 in /usr/local/lib/python3.11/dist-packages (from requests-oauthlib>=0.7.0->google-auth-oauthlib<2,>=0.5->tensorboard<2.16,>=2.15->tensorflow==2.15) (3.2.2)\n",
            "Using cached tensorflow-2.15.0-cp311-cp311-manylinux_2_17_x86_64.manylinux2014_x86_64.whl (475.3 MB)\n",
            "Installing collected packages: tensorflow\n",
            "\u001b[31mERROR: pip's dependency resolver does not currently take into account all the packages that are installed. This behaviour is the source of the following dependency conflicts.\n",
            "tf-keras 2.18.0 requires tensorflow<2.19,>=2.18, but you have tensorflow 2.15.0 which is incompatible.\n",
            "tensorflow-text 2.18.1 requires tensorflow<2.19,>=2.18.0, but you have tensorflow 2.15.0 which is incompatible.\u001b[0m\u001b[31m\n",
            "\u001b[0mSuccessfully installed tensorflow-2.15.0\n"
          ]
        }
      ],
      "source": [
        "!pip uninstall tensorflow -y\n",
        "!pip install tensorflow==2.15"
      ]
    },
    {
      "cell_type": "code",
      "execution_count": 2,
      "metadata": {
        "id": "oChX5IitAyXk",
        "colab": {
          "base_uri": "https://localhost:8080/"
        },
        "outputId": "4c18ffa4-36ea-4fe3-f005-f778d2fb73bf"
      },
      "outputs": [
        {
          "output_type": "stream",
          "name": "stdout",
          "text": [
            "Requirement already satisfied: comet_ml in /usr/local/lib/python3.11/dist-packages (3.49.0)\n",
            "Requirement already satisfied: everett<3.2.0,>=1.0.1 in /usr/local/lib/python3.11/dist-packages (from everett[ini]<3.2.0,>=1.0.1->comet_ml) (3.1.0)\n",
            "Requirement already satisfied: jsonschema!=3.1.0,>=2.6.0 in /usr/local/lib/python3.11/dist-packages (from comet_ml) (4.23.0)\n",
            "Requirement already satisfied: psutil>=5.6.3 in /usr/local/lib/python3.11/dist-packages (from comet_ml) (5.9.5)\n",
            "Requirement already satisfied: python-box<7.0.0 in /usr/local/lib/python3.11/dist-packages (from comet_ml) (6.1.0)\n",
            "Requirement already satisfied: requests-toolbelt>=0.8.0 in /usr/local/lib/python3.11/dist-packages (from comet_ml) (1.0.0)\n",
            "Requirement already satisfied: requests>=2.18.4 in /usr/local/lib/python3.11/dist-packages (from comet_ml) (2.32.3)\n",
            "Requirement already satisfied: semantic-version>=2.8.0 in /usr/local/lib/python3.11/dist-packages (from comet_ml) (2.10.0)\n",
            "Requirement already satisfied: sentry-sdk>=1.1.0 in /usr/local/lib/python3.11/dist-packages (from comet_ml) (2.20.0)\n",
            "Requirement already satisfied: simplejson in /usr/local/lib/python3.11/dist-packages (from comet_ml) (3.19.3)\n",
            "Requirement already satisfied: urllib3>=1.21.1 in /usr/local/lib/python3.11/dist-packages (from comet_ml) (2.3.0)\n",
            "Requirement already satisfied: wrapt>=1.11.2 in /usr/local/lib/python3.11/dist-packages (from comet_ml) (1.14.1)\n",
            "Requirement already satisfied: wurlitzer>=1.0.2 in /usr/local/lib/python3.11/dist-packages (from comet_ml) (3.1.1)\n",
            "Requirement already satisfied: dulwich!=0.20.33,>=0.20.6 in /usr/local/lib/python3.11/dist-packages (from comet_ml) (0.22.7)\n",
            "Requirement already satisfied: rich>=13.3.2 in /usr/local/lib/python3.11/dist-packages (from comet_ml) (13.9.4)\n",
            "Requirement already satisfied: configobj in /usr/local/lib/python3.11/dist-packages (from everett[ini]<3.2.0,>=1.0.1->comet_ml) (5.0.9)\n",
            "Requirement already satisfied: attrs>=22.2.0 in /usr/local/lib/python3.11/dist-packages (from jsonschema!=3.1.0,>=2.6.0->comet_ml) (25.1.0)\n",
            "Requirement already satisfied: jsonschema-specifications>=2023.03.6 in /usr/local/lib/python3.11/dist-packages (from jsonschema!=3.1.0,>=2.6.0->comet_ml) (2024.10.1)\n",
            "Requirement already satisfied: referencing>=0.28.4 in /usr/local/lib/python3.11/dist-packages (from jsonschema!=3.1.0,>=2.6.0->comet_ml) (0.36.2)\n",
            "Requirement already satisfied: rpds-py>=0.7.1 in /usr/local/lib/python3.11/dist-packages (from jsonschema!=3.1.0,>=2.6.0->comet_ml) (0.22.3)\n",
            "Requirement already satisfied: charset-normalizer<4,>=2 in /usr/local/lib/python3.11/dist-packages (from requests>=2.18.4->comet_ml) (3.4.1)\n",
            "Requirement already satisfied: idna<4,>=2.5 in /usr/local/lib/python3.11/dist-packages (from requests>=2.18.4->comet_ml) (3.10)\n",
            "Requirement already satisfied: certifi>=2017.4.17 in /usr/local/lib/python3.11/dist-packages (from requests>=2.18.4->comet_ml) (2024.12.14)\n",
            "Requirement already satisfied: markdown-it-py>=2.2.0 in /usr/local/lib/python3.11/dist-packages (from rich>=13.3.2->comet_ml) (3.0.0)\n",
            "Requirement already satisfied: pygments<3.0.0,>=2.13.0 in /usr/local/lib/python3.11/dist-packages (from rich>=13.3.2->comet_ml) (2.18.0)\n",
            "Requirement already satisfied: mdurl~=0.1 in /usr/local/lib/python3.11/dist-packages (from markdown-it-py>=2.2.0->rich>=13.3.2->comet_ml) (0.1.2)\n",
            "Requirement already satisfied: typing-extensions>=4.4.0 in /usr/local/lib/python3.11/dist-packages (from referencing>=0.28.4->jsonschema!=3.1.0,>=2.6.0->comet_ml) (4.12.2)\n"
          ]
        }
      ],
      "source": [
        "!pip install comet_ml"
      ]
    },
    {
      "cell_type": "markdown",
      "metadata": {
        "id": "poKWk6yV_-MR"
      },
      "source": [
        "## Imports"
      ]
    },
    {
      "cell_type": "markdown",
      "metadata": {
        "id": "xvxCMSK65g-H"
      },
      "source": [
        "TODO: Signup for a free account at https://www.comet.ml and paste your API key below\n"
      ]
    },
    {
      "cell_type": "code",
      "execution_count": 3,
      "metadata": {
        "id": "d9AkuK4V_9Ym",
        "colab": {
          "base_uri": "https://localhost:8080/"
        },
        "outputId": "298ee080-00f1-48fe-ec9e-60e12c5dd59f"
      },
      "outputs": [
        {
          "output_type": "stream",
          "name": "stderr",
          "text": [
            "\u001b[1;38;5;214mCOMET WARNING:\u001b[0m As you are running in a Jupyter environment, you will need to call `experiment.end()` when finished to ensure all metrics and code are logged before exiting.\n",
            "\u001b[1;38;5;39mCOMET INFO:\u001b[0m Experiment is live on comet.com https://www.comet.com/coriandering/applied-ai-gan-students/fb2ea26eb11a4dccb216e26ccc7d7d6c\n",
            "\n"
          ]
        }
      ],
      "source": [
        "# Import Comet package for tracking the experiments\n",
        "\n",
        "from comet_ml import Experiment\n",
        "### TODO: Signup for a free account at https://www.comet.ml and paste your API key below\n",
        "exp = Experiment(\n",
        "    api_key=\"WT6qlzLB67kzqU40wHG3vhkJG\",\n",
        "    project_name='applied-ai-gan-students')\n",
        "### END OF TODO\n"
      ]
    },
    {
      "cell_type": "code",
      "execution_count": 4,
      "metadata": {
        "id": "xnjbpUZ0JAG-",
        "colab": {
          "base_uri": "https://localhost:8080/"
        },
        "outputId": "348c037b-9383-499e-9893-0cfef7dcb72c"
      },
      "outputs": [
        {
          "output_type": "stream",
          "name": "stderr",
          "text": [
            "\u001b[1;38;5;39mCOMET INFO:\u001b[0m Couldn't find a Git repository in '/content' nor in any parent directory. Set `COMET_GIT_DIRECTORY` if your Git Repository is elsewhere.\n"
          ]
        }
      ],
      "source": [
        "# Import models, layers, optmisers\n",
        "import tensorflow as tf\n",
        "from tensorflow.keras.layers import Dense, Input, Reshape, Conv2DTranspose, Conv2D, Flatten, LeakyReLU, ReLU,BatchNormalization\n",
        "from tensorflow.keras.models import Model, Sequential\n",
        "from tensorflow.keras.optimizers import Adam\n",
        "from tensorflow.keras.datasets import cifar10, mnist\n",
        "from tensorflow.keras.preprocessing.image import ImageDataGenerator\n",
        "from tensorflow.keras.utils import plot_model\n",
        "from tensorflow.keras import initializers\n",
        "#other packages\n",
        "from tqdm import tqdm\n",
        "import numpy as np\n",
        "import matplotlib.pyplot as plt\n",
        "import sys\n",
        "from skimage.transform import resize\n"
      ]
    },
    {
      "cell_type": "markdown",
      "metadata": {
        "id": "_URgg8xexel-"
      },
      "source": [
        "## Global variables"
      ]
    },
    {
      "cell_type": "code",
      "execution_count": 5,
      "metadata": {
        "id": "p8dxlWYcxdif"
      },
      "outputs": [],
      "source": [
        "# Globals variables :\n",
        "noise_input_shape = 100\n",
        "batch_size = 128"
      ]
    },
    {
      "cell_type": "markdown",
      "metadata": {
        "id": "5WRDdcycGMD5"
      },
      "source": [
        "## Utils functions (plotting, logging)\n",
        "Take a look at TODOs ...\n"
      ]
    },
    {
      "cell_type": "code",
      "execution_count": 6,
      "metadata": {
        "id": "Czc4tKc2GVBy"
      },
      "outputs": [],
      "source": [
        "# Function to plot generated images :\n",
        "'''\n",
        "Arguments :\n",
        "epoch - training epoch\n",
        "generator - generator model from epoch epoch\n",
        "exp - Comet.ml callback\n",
        "examples - number of images to be plotted\n",
        "dim - (rows, cols) of figure in which images will be plotted\n",
        "figsize - size of the figure\n",
        "prefix - prefix for the filename of the saved plot\n",
        "'''\n",
        "def plot_generated_images(epoch, generator, exp, examples=25, dim=(5, 5), figsize=(5, 5), prefix='dataset'):\n",
        "    # TODO: Random input vector (shape=(num_examples,noise_input_shape))\n",
        "    noise = tf.random.normal(shape=(examples, noise_input_shape))\n",
        "    # TODO: Generate images from created noise vector\n",
        "    generated_images = generator(noise)\n",
        "    # Convert images into range [0-255] and convert to uint8 for proper plotting\n",
        "    generated_images = ((generated_images * 127.5) + 127.5).astype('uint8')\n",
        "    plt.figure(figsize=figsize)\n",
        "    for i in range(generated_images.shape[0]):\n",
        "        plt.subplot(dim[0], dim[1], i + 1)\n",
        "        plt.imshow(np.squeeze(generated_images[i]))\n",
        "        plt.axis('off')\n",
        "    plt.tight_layout()\n",
        "    plt.savefig(prefix+'_gan_generated_image %d.png' % epoch)\n",
        "    # Log plotted figure into Comet.ml\n",
        "    exp.log_figure(figure_name='generated_images_ep'+str(epoch))\n",
        "    plt.close()\n",
        "\n",
        "# Function to plot real images :\n",
        "'''\n",
        "Arguments :\n",
        "X_train - real dataset images (or batch of real dataset images)\n",
        "exp - Comet.ml callback\n",
        "examples - number of images to be plotted\n",
        "dim - (rows, cols) of figure in which images will be plotted\n",
        "figsize - size of the figure\n",
        "prefix - prefix for the filename of the saved plot\n",
        "\n",
        "'''\n",
        "def plot_real_images(X_train, exp, examples=25, dim=(5, 5), figsize=(5, 5), prefix='dataset'):\n",
        "    print(X_train.shape)\n",
        "    real_images = X_train[:examples]\n",
        "    print(real_images.shape)\n",
        "    real_images = ((real_images.numpy() * 127.5) + 127.5).astype('uint8')\n",
        "    print(real_images.shape)\n",
        "    plt.figure(figsize=figsize)\n",
        "    for i in range(real_images.shape[0]):\n",
        "        plt.subplot(dim[0], dim[1], i + 1)\n",
        "        plt.imshow(np.squeeze(real_images[i]))\n",
        "        plt.axis('off')\n",
        "    plt.tight_layout()\n",
        "    plt.savefig(prefix+'_gan_real_image %d.png')\n",
        "    # Log plotted figure into Comet.ml\n",
        "    exp.log_figure(figure_name='real_images.png')\n",
        "    plt.close()\n",
        "\n",
        "# Comet logging gradinets distributions (vanishing gradients)\n",
        "def get_gradients(gradmap, grads, model):\n",
        "    for grad, param in zip(grads, model.trainable_variables):\n",
        "        gradmap.setdefault(param.name, 0)\n",
        "        gradmap[param.name] += grad\n",
        "\n",
        "    return gradmap\n",
        "def log_histogram(experiment, gradmap, step, prefix=None):\n",
        "    for k, v in gradmap.items():\n",
        "        experiment.log_histogram_3d(v, name=\"%s/%s\" % (prefix, k), step=step)\n"
      ]
    },
    {
      "cell_type": "markdown",
      "metadata": {
        "id": "LmcCofYMuEVs"
      },
      "source": [
        "##  Dataset"
      ]
    },
    {
      "cell_type": "code",
      "execution_count": 21,
      "metadata": {
        "id": "JfPOSsLGuSrq"
      },
      "outputs": [],
      "source": [
        "# Load dataset\n",
        "dataset='mnist' #'cifar'\n",
        "if dataset=='mnist':\n",
        "  (x_train, y_train), (_, _) = mnist.load_data()\n",
        "  out_channels = 1\n",
        "  x_train = x_train[...,np.newaxis] #?\n",
        "elif dataset=='cifar':\n",
        "  (x_train, y_train), (_, _) = cifar10.load_data()\n",
        "  out_channels = 3\n",
        "else:\n",
        "  sys.exit('Unknown dataset')\n",
        "\n",
        "# Normalise data to the range (-1,1)\n",
        "x_train = (x_train.astype(np.float32) - 127.5) / 127.5\n",
        "\n",
        "y_train = y_train.astype(np.int32)\n",
        "\n",
        "# Training details\n",
        "batch_count = x_train.shape[0] // batch_size # how many iteration per epoch\n"
      ]
    },
    {
      "cell_type": "code",
      "execution_count": 8,
      "metadata": {
        "id": "v-efEUF9vPnb"
      },
      "outputs": [],
      "source": [
        "# If dataset is MNIST, we will resize the images to 32x32 size because 32 is more convenient being a power of 2.\n",
        "# CIFAR images are already of size 32x32, resizing will change nothing\n",
        "resize_shape = (32, 32, out_channels)\n",
        "\n",
        "def parse_function(img):\n",
        "    image = tf.image.resize(img,(resize_shape[0],resize_shape[1]))\n",
        "    return image"
      ]
    },
    {
      "cell_type": "code",
      "execution_count": 30,
      "metadata": {
        "id": "Ni5Q7Z7HuWEO"
      },
      "outputs": [],
      "source": [
        "# make trainig set\n",
        "train_dataset = tf.data.Dataset.from_tensor_slices(x_train)\n",
        "train_dataset = train_dataset.shuffle(x_train.shape[0])\n",
        "train_dataset = train_dataset.map(parse_function, num_parallel_calls=4)\n",
        "train_dataset = train_dataset.batch(batch_size)"
      ]
    },
    {
      "cell_type": "code",
      "source": [
        "#for t in train_dataset:\n",
        "#  print(t.shape)\n",
        "#  break"
      ],
      "metadata": {
        "colab": {
          "base_uri": "https://localhost:8080/"
        },
        "id": "GOtUWUQG9U95",
        "outputId": "44323517-5317-49e1-afb2-bc904c9e44b3"
      },
      "execution_count": 32,
      "outputs": [
        {
          "output_type": "stream",
          "name": "stdout",
          "text": [
            "(128, 32, 32, 1)\n"
          ]
        }
      ]
    },
    {
      "cell_type": "markdown",
      "metadata": {
        "id": "ggd3EM5t_0JE"
      },
      "source": [
        "## **GAN model**\n"
      ]
    },
    {
      "cell_type": "markdown",
      "metadata": {
        "id": "idTZyfVHsmsR"
      },
      "source": [
        "### Generator :\n",
        "\n",
        "TODO - Generator transforms input noise to image. The input noise is reshaped to 3D tensor and upsampling is done via TransposeConvolution (take a look at https://keras.io/api/layers/convolution_layers/convolution2d_transpose/).\n",
        "\n",
        "Complete the generator to have the following architecture:\n",
        "\n",
        "<img src=\"https://seafile.unistra.fr/f/92b1617dc1724e39abd4/?dl=1\"/>\n",
        "\n",
        "\n",
        "*Input*: Noise (shape=(noise_input_shape,)).\n",
        "\n",
        "*Output*: Image (32,32,1) for MNIST or (32,32,3) for CIFAR.\n",
        "\n"
      ]
    },
    {
      "cell_type": "code",
      "execution_count": 10,
      "metadata": {
        "id": "eN3iElnXtn9_"
      },
      "outputs": [],
      "source": [
        "# TODO: Function to create generator\n",
        "def create_generator(noise_input_shape=100,out_channels=3):\n",
        "  # Input noise is a vector of length 100 (for example)\n",
        "  input = Input(shape=(noise_input_shape,))\n",
        "  filters = 256\n",
        "  k_size = 4\n",
        "  g = Reshape((1,1,noise_input_shape))(input)\n",
        "  g = Conv2DTranspose(filters,(k_size,k_size),strides=1,kernel_initializer=initializers.RandomNormal(stddev=0.02),bias_initializer=initializers.RandomNormal(stddev=0.02))(g)\n",
        "  g = LeakyReLU(alpha=0.2)(g)\n",
        "\n",
        "  ### TODO: complete the model (see https://keras.io/layers/convolutional/), all leakyReLu layers to have alpha=0.2, 4x4 convolution, and (2,2) stride\n",
        "  # Upsampling blocks\n",
        "  for i in range(1,4):\n",
        "    f = filters//(2**i)\n",
        "    # Spatial upsampling\n",
        "    g = Conv2DTranspose(f, (4,4), strides=(2,2), padding=\"same\", kernel_initializer=initializers.RandomNormal(stddev=0.02), bias_initializer=initializers.RandomNormal(stddev=0.02))(g)\n",
        "    g = LeakyReLU(alpha=0.2)(g)\n",
        "\n",
        "  # N.B. Number of channels (filters) in the last layer needs to be 1 for MNIST (output should be grayscale image),\n",
        "  # or 3 for CIFAR (output should be an RGB image), with 3x3 convolution\n",
        "  # Activation function in last layer should be tanh to match real images which are in the range [-1,1]\n",
        "  g = Conv2D(out_channels, (3,3), padding=\"same\", activation='tanh')(g)\n",
        "  ### END OF TODO\n",
        "\n",
        "  # Make the model\n",
        "  model = Model(inputs=input, outputs=g)\n",
        "\n",
        "  # Model doesn't need to be compiled because it will be trained in custom training\n",
        "  # loop in combination with discriminator (new model will be created)\n",
        "  return model"
      ]
    },
    {
      "cell_type": "code",
      "execution_count": 11,
      "metadata": {
        "id": "a77iU1Xiw8Tp",
        "colab": {
          "base_uri": "https://localhost:8080/",
          "height": 1000
        },
        "outputId": "21c7205b-32a7-4aa3-a0f9-0476185bf22e"
      },
      "outputs": [
        {
          "output_type": "stream",
          "name": "stdout",
          "text": [
            "Model: \"model\"\n",
            "_________________________________________________________________\n",
            " Layer (type)                Output Shape              Param #   \n",
            "=================================================================\n",
            " input_1 (InputLayer)        [(None, 100)]             0         \n",
            "                                                                 \n",
            " reshape (Reshape)           (None, 1, 1, 100)         0         \n",
            "                                                                 \n",
            " conv2d_transpose (Conv2DTr  (None, 4, 4, 256)         409856    \n",
            " anspose)                                                        \n",
            "                                                                 \n",
            " leaky_re_lu (LeakyReLU)     (None, 4, 4, 256)         0         \n",
            "                                                                 \n",
            " conv2d_transpose_1 (Conv2D  (None, 8, 8, 128)         524416    \n",
            " Transpose)                                                      \n",
            "                                                                 \n",
            " leaky_re_lu_1 (LeakyReLU)   (None, 8, 8, 128)         0         \n",
            "                                                                 \n",
            " conv2d_transpose_2 (Conv2D  (None, 16, 16, 64)        131136    \n",
            " Transpose)                                                      \n",
            "                                                                 \n",
            " leaky_re_lu_2 (LeakyReLU)   (None, 16, 16, 64)        0         \n",
            "                                                                 \n",
            " conv2d_transpose_3 (Conv2D  (None, 32, 32, 32)        32800     \n",
            " Transpose)                                                      \n",
            "                                                                 \n",
            " leaky_re_lu_3 (LeakyReLU)   (None, 32, 32, 32)        0         \n",
            "                                                                 \n",
            " conv2d (Conv2D)             (None, 32, 32, 1)         289       \n",
            "                                                                 \n",
            "=================================================================\n",
            "Total params: 1098497 (4.19 MB)\n",
            "Trainable params: 1098497 (4.19 MB)\n",
            "Non-trainable params: 0 (0.00 Byte)\n",
            "_________________________________________________________________\n"
          ]
        },
        {
          "output_type": "execute_result",
          "data": {
            "text/plain": [
              "<matplotlib.image.AxesImage at 0x78b06469f8d0>"
            ]
          },
          "metadata": {},
          "execution_count": 11
        },
        {
          "output_type": "display_data",
          "data": {
            "text/plain": [
              "<Figure size 640x480 with 1 Axes>"
            ],
            "image/png": "[encoded data removed]"
          },
          "metadata": {}
        }
      ],
      "source": [
        "# Test generator\n",
        "g = create_generator(out_channels=out_channels)\n",
        "g.summary()\n",
        "noise = tf.random.normal([1,noise_input_shape])\n",
        "gen_img = g(noise,training=False).numpy()\n",
        "plot_img = np.squeeze(gen_img)\n",
        "plt.imshow(((plot_img * 127.5) + 127.5).astype('uint8'))"
      ]
    },
    {
      "cell_type": "markdown",
      "metadata": {
        "id": "2IP5lZKus_6_"
      },
      "source": [
        "### Discriminator:\n",
        "\n",
        "TODO - Discriminator distinguishing between real and fake samples:\n",
        "It takes an image as an input and produce the probability of a given image being real.\n",
        "This can be acheived  by using sigmoid activation function at the last layer. For computational stability, use **linear activation** in last layer (no activation) and **sigmoid will be added during loss calculation**.\n",
        "\n",
        "\n",
        "Complete the discriminator to have the following architecture:\n",
        "\n",
        "<img src=\"https://seafile.unistra.fr/f/2739577c4dde45cca672/?dl=1\"/>\n",
        "\n",
        "\n",
        "*Input*: Image (32,32,1) for MNIST or (32,32,3) for CIFAR.\n",
        "\n",
        "*Output*: logit of binary classification (real or fake), shape=(1,))\n",
        "\n"
      ]
    },
    {
      "cell_type": "code",
      "execution_count": 12,
      "metadata": {
        "id": "zxutqe3Ps_c2"
      },
      "outputs": [],
      "source": [
        "# TODO: Function to create discriminator\n",
        "def create_discriminator(input_shape):\n",
        "    # Discriminator input has the same shape as the generator output\n",
        "    input = Input(input_shape)\n",
        "    filters = 64\n",
        "    k_size= 3\n",
        "    d = Conv2D(filters, (k_size, k_size),padding='same')(input)\n",
        "    d = LeakyReLU(alpha=0.2)(d)\n",
        "\n",
        "    ### TODO: complete the model - all convolutional layers to have a stride of (2,2), all leakyReLu layers to have alpha=0.2\n",
        "    for i in range(1,4):\n",
        "      f = filters*(2 ** i)\n",
        "      d = Conv2D(f, (4,4), strides=(2,2), padding=\"same\", kernel_initializer=initializers.RandomNormal(stddev=0.02), bias_initializer=initializers.RandomNormal(stddev=0.02))(d)\n",
        "      d = LeakyReLU(alpha=0.2)(d)\n",
        "\n",
        "\n",
        "    d = Flatten()(d)\n",
        "    # Output is one number\n",
        "    # Ideal output should be close to 1 for images from real dataset, close to 0 for generated images\n",
        "    d = Dense(1)(d)\n",
        "    ### END OF TODO\n",
        "\n",
        "    model = Model(inputs = input,outputs=d)\n",
        "    return model"
      ]
    },
    {
      "cell_type": "code",
      "execution_count": 13,
      "metadata": {
        "id": "EwLOVR7kzlTi",
        "colab": {
          "base_uri": "https://localhost:8080/"
        },
        "outputId": "8705c3d3-7313-4792-c761-fe70133bffb4"
      },
      "outputs": [
        {
          "output_type": "stream",
          "name": "stdout",
          "text": [
            "Model: \"model_1\"\n",
            "_________________________________________________________________\n",
            " Layer (type)                Output Shape              Param #   \n",
            "=================================================================\n",
            " input_2 (InputLayer)        [(None, 32, 32, 1)]       0         \n",
            "                                                                 \n",
            " conv2d_1 (Conv2D)           (None, 32, 32, 64)        640       \n",
            "                                                                 \n",
            " leaky_re_lu_4 (LeakyReLU)   (None, 32, 32, 64)        0         \n",
            "                                                                 \n",
            " conv2d_2 (Conv2D)           (None, 16, 16, 128)       131200    \n",
            "                                                                 \n",
            " leaky_re_lu_5 (LeakyReLU)   (None, 16, 16, 128)       0         \n",
            "                                                                 \n",
            " conv2d_3 (Conv2D)           (None, 8, 8, 256)         524544    \n",
            "                                                                 \n",
            " leaky_re_lu_6 (LeakyReLU)   (None, 8, 8, 256)         0         \n",
            "                                                                 \n",
            " conv2d_4 (Conv2D)           (None, 4, 4, 512)         2097664   \n",
            "                                                                 \n",
            " leaky_re_lu_7 (LeakyReLU)   (None, 4, 4, 512)         0         \n",
            "                                                                 \n",
            " flatten (Flatten)           (None, 8192)              0         \n",
            "                                                                 \n",
            " dense (Dense)               (None, 1)                 8193      \n",
            "                                                                 \n",
            "=================================================================\n",
            "Total params: 2762241 (10.54 MB)\n",
            "Trainable params: 2762241 (10.54 MB)\n",
            "Non-trainable params: 0 (0.00 Byte)\n",
            "_________________________________________________________________\n",
            "tf.Tensor([[0.05922379]], shape=(1, 1), dtype=float32)\n"
          ]
        }
      ],
      "source": [
        "# Test discriminator\n",
        "d = create_discriminator(resize_shape)\n",
        "d.summary()\n",
        "decision = d(gen_img)\n",
        "print(decision)"
      ]
    },
    {
      "cell_type": "code",
      "execution_count": 14,
      "metadata": {
        "colab": {
          "base_uri": "https://localhost:8080/",
          "height": 465
        },
        "id": "NeODLUTsOXYH",
        "outputId": "d07e49e6-5910-483a-8ecb-cf2c38195d2f"
      },
      "outputs": [
        {
          "output_type": "stream",
          "name": "stdout",
          "text": [
            "tf.Tensor([[0.05882967]], shape=(1, 1), dtype=float32)\n"
          ]
        },
        {
          "output_type": "execute_result",
          "data": {
            "text/plain": [
              "<matplotlib.image.AxesImage at 0x78b061ba97d0>"
            ]
          },
          "metadata": {},
          "execution_count": 14
        },
        {
          "output_type": "display_data",
          "data": {
            "text/plain": [
              "<Figure size 640x480 with 1 Axes>"
            ],
            "image/png": "[encoded data removed]"
          },
          "metadata": {}
        }
      ],
      "source": [
        "# Run this multiple times to see differences\n",
        "noise = tf.random.normal([1,noise_input_shape])\n",
        "gen_img = g(noise,training=False).numpy()\n",
        "decision = d(gen_img)\n",
        "print(decision)\n",
        "plot_img = np.squeeze(gen_img)\n",
        "plt.imshow(((plot_img* 127.5) + 127.5).astype('uint8'))"
      ]
    },
    {
      "cell_type": "markdown",
      "metadata": {
        "id": "e34ZO8lktJzu"
      },
      "source": [
        "### Loss functions and optimisers\n"
      ]
    },
    {
      "cell_type": "markdown",
      "metadata": {
        "id": "ZX3jZHvoNo35"
      },
      "source": [
        "TODO"
      ]
    },
    {
      "cell_type": "code",
      "execution_count": 15,
      "metadata": {
        "id": "N6zkZRVdGEOF"
      },
      "outputs": [],
      "source": [
        "#TODO: Create binary cross entropy loss function (use parameter from_logits = True if activation is linear in disciminator).\n",
        "loss_function = tf.keras.losses.BinaryCrossentropy(from_logits = True)\n",
        "\n",
        "#TODO: (hint: disciminator should predict one for real data)\n",
        "def discriminator_loss_real_data(disc_pred_for_real_data):\n",
        "    real_loss = loss_function(disc_pred_for_real_data, tf.ones(disc_pred_for_real_data.shape))\n",
        "    return real_loss\n",
        "\n",
        "#TODO: (hint: disciminator should  predict zero for real data)\n",
        "def discriminator_loss_fake_data(disc_pred_for_generated_data):\n",
        "    fake_loss = loss_function(disc_pred_for_generated_data, tf.zeros(disc_pred_for_generated_data.shape))\n",
        "    return fake_loss\n",
        "\n",
        "#TODO: (hint: generator wants that discriminator's predictions are close to one for generated data)\n",
        "def generator_loss(disc_pred_for_generated_data):\n",
        "    gen_loss =  loss_function(disc_pred_for_generated_data, tf.ones(disc_pred_for_generated_data.shape))\n",
        "    return gen_loss"
      ]
    },
    {
      "cell_type": "code",
      "execution_count": 16,
      "metadata": {
        "id": "RZKf3rH9GSud"
      },
      "outputs": [],
      "source": [
        "#Optimisers\n",
        "generator_optimizer = tf.keras.optimizers.Adam(2e-4,beta_1=0.5)\n",
        "discriminator_optimizer = tf.keras.optimizers.Adam(2e-4,beta_1=0.5)"
      ]
    },
    {
      "cell_type": "markdown",
      "metadata": {
        "id": "2AO41Sahyupp"
      },
      "source": [
        "# Prepare models"
      ]
    },
    {
      "cell_type": "markdown",
      "metadata": {
        "id": "hZsXh9XUNjpv"
      },
      "source": [
        "TODO"
      ]
    },
    {
      "cell_type": "code",
      "execution_count": 17,
      "metadata": {
        "id": "r8sz1UD5aQ55"
      },
      "outputs": [],
      "source": [
        "#TODO: Make models\n",
        "generator = create_generator(out_channels=out_channels)\n",
        "shape = generator.output_shape[1:]\n",
        "discriminator = create_discriminator(resize_shape)\n",
        "\n",
        "# Log and plot progress (Comet.ml)\n",
        "exp.get_callback('keras').set_model(generator)"
      ]
    },
    {
      "cell_type": "markdown",
      "metadata": {
        "id": "P4ajfgM5Gl5P"
      },
      "source": [
        "# GAN training"
      ]
    },
    {
      "cell_type": "markdown",
      "metadata": {
        "id": "Pj8cLgaXzJlD"
      },
      "source": [
        "## Training step function"
      ]
    },
    {
      "cell_type": "markdown",
      "metadata": {
        "id": "ntspLjmuNgwE"
      },
      "source": [
        "TODO"
      ]
    },
    {
      "cell_type": "code",
      "execution_count": 18,
      "metadata": {
        "id": "febylNJVGosR"
      },
      "outputs": [],
      "source": [
        "@tf.function\n",
        "def train_step(real_images):\n",
        "  ## Train discriminator\n",
        "  #0. Make a noise vector\n",
        "  noise = tf.random.normal([batch_size,noise_input_shape]) #tf.random.normal(real_images.shape)\n",
        "  with tf.GradientTape() as disc_tape:\n",
        "    # 1. generator generates an image from noise\n",
        "    generated_images = generator(noise)\n",
        "    # 2. discriminator prediction for real images\n",
        "    real_output = discriminator(real_images)\n",
        "    # 3. discriminator prediction for fake images\n",
        "    fake_output = discriminator(generated_images)\n",
        "    # 4. discriminator loss: (loss_on_real+loss_on_fake)/2\n",
        "    disc_loss = (discriminator_loss_fake_data(fake_output)+discriminator_loss_real_data(real_output))/2\n",
        "\n",
        "  #get discriminator's gradients\n",
        "  gradients_of_discriminator = disc_tape.gradient(disc_loss, discriminator.trainable_variables)\n",
        "  # Update the weights of the discriminator using the discriminator optimizer\n",
        "  discriminator_optimizer.apply_gradients(zip(gradients_of_discriminator, discriminator.trainable_variables))\n",
        "\n",
        "  ## Train generator\n",
        "  #0. Make a noise vector\n",
        "  noise = tf.random.normal([batch_size,noise_input_shape])\n",
        "  with tf.GradientTape() as gen_tape:\n",
        "      # 1. Generate fake images using the generator\n",
        "      generated_images =  generator(noise)\n",
        "      # 2. Get the discriminator prediction for fake images\n",
        "      fake_output = discriminator(generated_images)\n",
        "      # 3. Calculate the generator loss\n",
        "      gen_loss = generator_loss(fake_output)\n",
        "\n",
        "  #TODO: Update generator (see update discriminator)\n",
        "  gradients_of_generator = gen_tape.gradient(gen_loss, generator.trainable_variables)\n",
        "  generator_optimizer.apply_gradients(zip(gradients_of_generator, generator.trainable_variables))\n",
        "\n",
        "\n",
        "  return gen_loss, disc_loss, gradients_of_generator, gradients_of_discriminator"
      ]
    },
    {
      "cell_type": "markdown",
      "metadata": {
        "id": "yH1h0ZBTzaGB"
      },
      "source": [
        "## Training loop"
      ]
    },
    {
      "cell_type": "code",
      "execution_count": 23,
      "metadata": {
        "id": "S0WRXgCPJkCc"
      },
      "outputs": [],
      "source": [
        "\n",
        "def train(dataset, epochs):\n",
        "  real_plt = False\n",
        "  cnt = 0\n",
        "  gradmap_generator = {}\n",
        "  gradmap_discriminator = {}\n",
        "\n",
        "  for epoch in tqdm(range(epochs)):\n",
        "    step=0\n",
        "    for image_batch in dataset:\n",
        "      #print(\"a\")\n",
        "      step = step+1\n",
        "      if not real_plt:\n",
        "         print(\"b\")\n",
        "         plot_real_images(image_batch, exp, prefix='real')\n",
        "         real_plt = True\n",
        "\n",
        "      print(\"c\")\n",
        "      gen_loss, disc_loss, gradients_of_generator, gradients_of_discriminator= train_step(image_batch)\n",
        "      print(\"d\")\n",
        "\n",
        "      # Logs for comet\n",
        "      gradmap_generator = get_gradients(gradmap_generator, gradients_of_generator, generator)\n",
        "      gradmap_discriminator = get_gradients(gradmap_discriminator, gradients_of_discriminator, discriminator)\n",
        "\n",
        "      exp.set_step(cnt)\n",
        "      exp.log_metric(\"disc_loss\",disc_loss,step=cnt)\n",
        "      exp.log_metric(\"gen_loss\", gen_loss, step=cnt)\n",
        "      cnt = cnt+1\n",
        "     # scale gradients\n",
        "    for k, v in gradmap_generator.items():\n",
        "      gradmap_generator[k] = v / step\n",
        "    for k, v in gradmap_discriminator.items():\n",
        "      gradmap_discriminator[k] = v / step\n",
        "\n",
        "    plot_generated_images(epoch, generator, exp, prefix='cifar')\n",
        "    log_histogram(exp, gradmap_generator,cnt, prefix=\"gradient_generator\")\n",
        "    log_histogram(exp, gradmap_discriminator,cnt, prefix=\"gradient_discriminator\")\n"
      ]
    },
    {
      "cell_type": "markdown",
      "metadata": {
        "id": "Ac4hKGrU0365"
      },
      "source": [
        "##Run code"
      ]
    },
    {
      "cell_type": "code",
      "execution_count": null,
      "metadata": {
        "id": "hD6_QSzEJS0P",
        "colab": {
          "base_uri": "https://localhost:8080/"
        },
        "outputId": "e9fe5139-887a-4764-a507-48fe1b483de7"
      },
      "outputs": [
        {
          "output_type": "stream",
          "name": "stderr",
          "text": [
            "\r  0%|          | 0/10 [00:00<?, ?it/s]"
          ]
        },
        {
          "output_type": "stream",
          "name": "stdout",
          "text": [
            "b\n",
            "(128, 32, 32, 1)\n",
            "(25, 32, 32, 1)\n",
            "(25, 32, 32, 1)\n",
            "c\n",
            "d\n",
            "c\n",
            "d\n",
            "c\n",
            "d\n",
            "c\n",
            "d\n",
            "c\n",
            "d\n",
            "c\n",
            "d\n",
            "c\n",
            "d\n",
            "c\n",
            "d\n",
            "c\n",
            "d\n",
            "c\n",
            "d\n",
            "c\n",
            "d\n",
            "c\n",
            "d\n",
            "c\n",
            "d\n",
            "c\n",
            "d\n",
            "c\n",
            "d\n",
            "c\n",
            "d\n",
            "c\n",
            "d\n",
            "c\n",
            "d\n",
            "c\n",
            "d\n",
            "c\n",
            "d\n",
            "c\n",
            "d\n",
            "c\n",
            "d\n",
            "c\n",
            "d\n",
            "c\n",
            "d\n",
            "c\n",
            "d\n",
            "c\n",
            "d\n",
            "c\n",
            "d\n",
            "c\n",
            "d\n",
            "c\n",
            "d\n",
            "c\n",
            "d\n",
            "c\n",
            "d\n",
            "c\n",
            "d\n",
            "c\n",
            "d\n",
            "c\n",
            "d\n",
            "c\n",
            "d\n",
            "c\n",
            "d\n",
            "c\n",
            "d\n",
            "c\n",
            "d\n",
            "c\n",
            "d\n",
            "c\n",
            "d\n",
            "c\n",
            "d\n",
            "c\n",
            "d\n",
            "c\n",
            "d\n",
            "c\n",
            "d\n",
            "c\n",
            "d\n",
            "c\n",
            "d\n",
            "c\n",
            "d\n",
            "c\n",
            "d\n",
            "c\n",
            "d\n",
            "c\n",
            "d\n",
            "c\n",
            "d\n",
            "c\n",
            "d\n",
            "c\n",
            "d\n",
            "c\n",
            "d\n",
            "c\n",
            "d\n",
            "c\n",
            "d\n",
            "c\n",
            "d\n",
            "c\n",
            "d\n",
            "c\n",
            "d\n",
            "c\n",
            "d\n",
            "c\n",
            "d\n",
            "c\n",
            "d\n",
            "c\n",
            "d\n",
            "c\n",
            "d\n",
            "c\n",
            "d\n",
            "c\n",
            "d\n",
            "c\n",
            "d\n",
            "c\n",
            "d\n",
            "c\n",
            "d\n",
            "c\n",
            "d\n",
            "c\n",
            "d\n",
            "c\n",
            "d\n",
            "c\n",
            "d\n",
            "c\n",
            "d\n",
            "c\n",
            "d\n",
            "c\n",
            "d\n",
            "c\n",
            "d\n",
            "c\n",
            "d\n",
            "c\n",
            "d\n",
            "c\n"
          ]
        }
      ],
      "source": [
        "train(train_dataset, 10)"
      ]
    },
    {
      "cell_type": "code",
      "execution_count": null,
      "metadata": {
        "id": "KnGOBybys6VU"
      },
      "outputs": [],
      "source": [
        "exp.end()"
      ]
    },
    {
      "cell_type": "markdown",
      "metadata": {
        "id": "R6N3_ujS8i43"
      },
      "source": [
        "# GAN playground\n",
        "\n",
        "1. Try longer training\n",
        "1. Train GAN with CIFAR dataset\n",
        "1.  Change the learning rate of the Generator/Discriminator, try different optimisers\n",
        "2.  Change Input noise shape\n",
        "3.   Modify discriminator/generator architecture (adding BatchNormalisarion, deeper generator/discriminator)\n",
        "4.   Increase the number of discriminator training iterations relative to the generator per epoch, e.g. discriminator is trained 2 times and generator 1 time per epoch\n"
      ]
    }
  ],
  "metadata": {
    "accelerator": "GPU",
    "colab": {
      "collapsed_sections": [
        "R6N3_ujS8i43"
      ],
      "provenance": [],
      "include_colab_link": true
    },
    "kernelspec": {
      "display_name": "Python 3",
      "name": "python3"
    }
  },
  "nbformat": 4,
  "nbformat_minor": 0
}